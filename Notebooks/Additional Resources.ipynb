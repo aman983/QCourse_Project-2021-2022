{
 "cells": [
  {
   "cell_type": "markdown",
   "id": "76a72cb6",
   "metadata": {},
   "source": [
    "<b>Quantum Game Theory, A Comprehensive Study by Indranil Ghosh <a href=\"https://www.ias.ac.in/article/fulltext/reso/026/05/0671-0684\" target=\"_blank\">1</a> , <a href=\"https://www.ias.ac.in/article/fulltext/reso/026/06/0791-0812\" target=\"_blank\">2</a> , <a href=\"https://www.ias.ac.in/article/fulltext/reso/026/07/0939-0951\" target=\"_blank\">3</a>"
   ]
  },
  {
   "cell_type": "markdown",
   "id": "bf4ba36b",
   "metadata": {},
   "source": [
    "<b>An Introduction to Quantum Game Theory by </b><a href=\"https://arxiv.org/pdf/quant-ph/0506219v1.pdf\" target=\"_blank\">J. Orlin Grabbe</a>"
   ]
  },
  {
   "cell_type": "markdown",
   "id": "369ca752",
   "metadata": {},
   "source": [
    "<b>Quantum Games and Game Strategy by</b> <a href=\"https://homes.psd.uchicago.edu/~sethi/Teaching/P243-W2020/final-papers/price.pdf\" target=\"_blank\">Elizabeth Price</a>"
   ]
  },
  {
   "cell_type": "markdown",
   "id": "75038e0c",
   "metadata": {},
   "source": [
    "<b>An introduction to quantum game theory by</b> <a href=\"https://arxiv.org/pdf/quant-ph/0208069.pdf\" target=\"_blank\">A.P. Flitney and D. Abbott</a>"
   ]
  },
  {
   "cell_type": "markdown",
   "id": "2d862abc",
   "metadata": {},
   "source": [
    "<b>Quantum Games by</b> <a href=\"https://arxiv.org/pdf/quant-ph/0004076.pdf\" target=\"_blank\">Jens Eisert and Martin Wilkens</a>"
   ]
  },
  {
   "cell_type": "markdown",
   "id": "0be57c2a",
   "metadata": {},
   "source": [
    "<b>Quantum Game Theory by Donald Hoffman</b> - <a href=\"https://www.youtube.com/watch?v=iPtztfGuIGk\" target=\"_blank\">*video</a> "
   ]
  },
  {
   "cell_type": "markdown",
   "id": "31ef183e",
   "metadata": {},
   "source": [
    "<b>The Quantum Prisoner's Dilemma</b> - <a href=\"https://www.youtube.com/watch?v=_kLb1glm6EM\" target=\"_blank\">*video</a> "
   ]
  },
  {
   "cell_type": "markdown",
   "id": "6f3de4ef",
   "metadata": {},
   "source": [
    "<b>Quantum Biology- How Plants Use Quantum Mechanics</b> - <a href=\"https://www.youtube.com/watch?v=Zc9Xk99gCr4\" target=\"_blank\">*video</a> "
   ]
  },
  {
   "cell_type": "markdown",
   "id": "013aa72e",
   "metadata": {},
   "source": [
    "<b>Quantum Biology- Enzymes, the Engines of Life</b> - <a href=\"https://www.youtube.com/watch?v=almlINDXU5c\" target=\"_blank\">*video</a>"
   ]
  },
  {
   "cell_type": "markdown",
   "id": "22e45a7d",
   "metadata": {},
   "source": [
    "<b>Quantum Biology- How Birds Navigate With Quantum Mechanics</b> - <a href=\"https://www.youtube.com/watch?v=NW7VUFgwqg8\" target=\"_blank\">*video</a>"
   ]
  },
  {
   "cell_type": "markdown",
   "id": "2553ae77",
   "metadata": {},
   "source": [
    "<b>Axelrod Python library documentation</b> - <a href=\"https://axelrod.readthedocs.io/en/stable/\" target=\"_blank\">here</a>"
   ]
  }
 ],
 "metadata": {
  "kernelspec": {
   "display_name": "Python 3 (ipykernel)",
   "language": "python",
   "name": "python3"
  },
  "language_info": {
   "codemirror_mode": {
    "name": "ipython",
    "version": 3
   },
   "file_extension": ".py",
   "mimetype": "text/x-python",
   "name": "python",
   "nbconvert_exporter": "python",
   "pygments_lexer": "ipython3",
   "version": "3.9.7"
  }
 },
 "nbformat": 4,
 "nbformat_minor": 5
}

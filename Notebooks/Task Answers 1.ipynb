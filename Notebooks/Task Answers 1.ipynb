{
 "cells": [
  {
   "cell_type": "markdown",
   "id": "14680441",
   "metadata": {},
   "source": [
    "<h2> <font color=\"blue\"> Solution for </font>Notebook 2</h2>"
   ]
  },
  {
   "cell_type": "code",
   "execution_count": null,
   "id": "107b7afe",
   "metadata": {},
   "outputs": [],
   "source": [
    "%run Game.py #Run this cell to play the bit game"
   ]
  },
  {
   "cell_type": "markdown",
   "id": "52ad70d7",
   "metadata": {},
   "source": [
    "<h3>Task 1</h3>\n",
    "\n",
    "If bob strictly chooses to follow the strategy 1 (S1), what do we observe in the result ?\n",
    "\n",
    "<br>If Alice strictly chooses to follow the strategy 1 (S1), what do we observe in the result ?</br>"
   ]
  },
  {
   "cell_type": "code",
   "execution_count": null,
   "id": "9fd449a7",
   "metadata": {},
   "outputs": [],
   "source": [
    "S1 = 1\n",
    "S2 = 0\n",
    "\n",
    "# what if Bob always chooses S1\n",
    "Game.bit_game(S1,S1,S1)\n",
    "Game.bit_game(S1,S1,S2)\n",
    "Game.bit_game(S2,S1,S1)\n",
    "Game.bit_game(S2,S1,S2)"
   ]
  },
  {
   "cell_type": "code",
   "execution_count": null,
   "id": "26074a09",
   "metadata": {},
   "outputs": [],
   "source": [
    "# what if Alice always chooses S1\n",
    "Game.bit_game(S1,S1,S1)\n",
    "Game.bit_game(S1,S2,S1)"
   ]
  },
  {
   "cell_type": "markdown",
   "id": "93610ac1",
   "metadata": {},
   "source": [
    "<h3>Task 2</h3>\n",
    "\n",
    "If bob strictly chooses to follow the strategy 2 (S2), what do we observe in the result ?\n",
    "\n",
    "<br>If Alice strictly chooses to follow the strategy 2 (S2), what do we observe in the result ?</br>"
   ]
  },
  {
   "cell_type": "code",
   "execution_count": null,
   "id": "8f68e169",
   "metadata": {},
   "outputs": [],
   "source": [
    "# what if Alice always chooses S2\n",
    "Game.bit_game(S2,S1,S2)\n",
    "Game.bit_game(S2,S2,S2)"
   ]
  },
  {
   "cell_type": "code",
   "execution_count": null,
   "id": "5bcd2259",
   "metadata": {},
   "outputs": [],
   "source": [
    "# what if Bob always chooses S2\n",
    "Game.bit_game(S1,S2,S1)\n",
    "Game.bit_game(S1,S2,S2)\n",
    "Game.bit_game(S2,S2,S1)\n",
    "Game.bit_game(S2,S2,S2)"
   ]
  },
  {
   "cell_type": "markdown",
   "id": "36821c7d",
   "metadata": {},
   "source": [
    "Even if Alice or Bob strictly play with one stratergy then also they have equal chances of winning "
   ]
  },
  {
   "cell_type": "markdown",
   "id": "c5d10a70",
   "metadata": {},
   "source": [
    "<h3>Task 3</h3>\n",
    "use random fuction to choose stratergy and simulate the game for 10,100,1000 times and observe the results"
   ]
  },
  {
   "cell_type": "code",
   "execution_count": null,
   "id": "8b2c647a",
   "metadata": {},
   "outputs": [],
   "source": [
    "from random import randrange #Import randrange\n",
    "\n",
    "counter = 0 #set Counter\n",
    "N = 10 # put N as 100,1000\n",
    "\n",
    "for i in range(N):\n",
    "    \n",
    "    Alice = randrange(2) # Chooses move for alice at random\n",
    "    Bob = randrange(2) # chooses moves for bob at random\n",
    "    Alice1 = randrange(2) # chooses moves for alice at random\n",
    "    \n",
    "    result = Game.bit_game(Alice,Bob,Alice1) # get result from the simulator\n",
    "    \n",
    "    if(result[0] == 'H'):\n",
    "        counter = counter +1\n",
    "\n",
    "A = counter # Times Alice won \n",
    "B = i+1 - counter # Times Bob won\n",
    "PA = A/(i+1) # Probability of Alice winning \n",
    "PB = 1 - PA # Probability of Bob winning\n",
    "\n",
    "print(\"Alice won -->\",A,\"times\")   #Print results from simulator\n",
    "print(\"Bob won -->\",B,\"times\")\n",
    "print()\n",
    "print(\"probability of Alice winning -->\",PA)\n",
    "print(\"pribability of Bob winning -->\",PB)"
   ]
  },
  {
   "cell_type": "markdown",
   "id": "8378f8b9",
   "metadata": {},
   "source": [
    "The bit game behaves as a coin flipping game."
   ]
  },
  {
   "cell_type": "markdown",
   "id": "2defda43",
   "metadata": {},
   "source": [
    "<h3>Task 4</h3>\n",
    "\n",
    "use random fuction to choose stratergy and simulate the minority game for 10,100,1000 times and observe the results."
   ]
  },
  {
   "cell_type": "code",
   "execution_count": null,
   "id": "61c821bb",
   "metadata": {},
   "outputs": [],
   "source": [
    "%run Game.py\n",
    "from random import randrange\n",
    "N = 10 # choose n for 10,100,1000\n",
    "c1 = 0\n",
    "c2 = 0   #counter variables\n",
    "c3 = 0\n",
    "c4 = 0\n",
    "for i in range(N):\n",
    "    p1 = randrange(2)\n",
    "    p2 = randrange(2)\n",
    "    p3 = randrange(2)  #random selection of strategy\n",
    "    p4 = randrange(2)\n",
    "    \n",
    "    s = [p1,p2,p3,p4]\n",
    "    a = Game.minority_game(s)\n",
    "    if (a[0] + a[1] +a[2] +a[3] == 1):\n",
    "        if(a[0] == 1):\n",
    "            c1 = c1 + 1\n",
    "        if(a[1] == 1):\n",
    "            c2 = c2 +1\n",
    "                                          #display results\n",
    "        if(a[2] == 1):\n",
    "            c3 = c3 +1\n",
    "            \n",
    "        if(a[3] == 1):\n",
    "            c4 = c4 +1\n",
    "t = c1+c2+c3+c4\n",
    "print(\"player 1-->\",c1,\"Probability of winnning =\",c1/t)\n",
    "print(\"player 2-->\",c2,\"Probability of winnning =\",c2/t)\n",
    "print(\"player 3-->\",c3,\"Probability of winnning =\",c3/t)\n",
    "print(\"player 4-->\",c4,\"Probability of winnning =\",c4/t)"
   ]
  },
  {
   "cell_type": "markdown",
   "id": "0027e163",
   "metadata": {},
   "source": [
    "<h3>Task 5</h3>\n",
    "\n",
    "play a Match between 4 strategies<b>(Defector, Alternator, TitForTat, Random)</b> and compare the payoffs between them and find out which one is the best stratege to follow ?"
   ]
  },
  {
   "cell_type": "code",
   "execution_count": null,
   "id": "10f4b613",
   "metadata": {},
   "outputs": [],
   "source": [
    "import axelrod as axl\n",
    "\n",
    "players = (axl.Cooperator(),axl.Defector(), axl.Alternator(), axl.TitForTat(), axl.Random()) # strategies to compare\n",
    "\n",
    "n = 10 # n is number of turns\n",
    "\n",
    "tournament = axl.Tournament(players = players,turns =n) # declare a tournament between strategies \n",
    "\n",
    "results = tournament.play() #play tournament\n",
    "\n",
    "a = results.ranked_names # Display winners \n",
    "print(\"The winner is -->\",a[0],\"|\"\"second place -->\",a[1],\"|\" \"Third place -->\",a[2],\"|\"\"Fourth place -->\",a[3],\"|\"\"Last place -->\",a[4])"
   ]
  }
 ],
 "metadata": {
  "kernelspec": {
   "display_name": "Python 3 (ipykernel)",
   "language": "python",
   "name": "python3"
  },
  "language_info": {
   "codemirror_mode": {
    "name": "ipython",
    "version": 3
   },
   "file_extension": ".py",
   "mimetype": "text/x-python",
   "name": "python",
   "nbconvert_exporter": "python",
   "pygments_lexer": "ipython3",
   "version": "3.9.7"
  }
 },
 "nbformat": 4,
 "nbformat_minor": 5
}

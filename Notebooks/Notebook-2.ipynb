{
 "cells": [
  {
   "cell_type": "markdown",
   "id": "56b60216",
   "metadata": {},
   "source": [
    "<h3>Bit Game</h3>\n",
    "\n",
    "There are two player in this game Alice and Bob. They are given a classical bit to manuplate. \n",
    "\n",
    "They have two strategies:\n",
    "<br>$S_1$ =  Flip the Bit</br> \n",
    "$S_2$= Do nothing to the bit \n",
    "\n",
    "<br>Step 1: Initially the bit is set to state 0.</br>\n",
    "<br>Step 2: Alice first chooses from S1 & S2 and applies one of them</br> \n",
    "<br>Step 3: After Alice has made the first move Bob can apply is strategy from S1 & S2</br>\n",
    "<br>Step 4: Alice again gets to apply S1 or S2</br>\n",
    "<br>Step 5: We measure the bit</br> \n",
    "- if the bit is in state 0 then Alice won the game \n",
    "- if the bit is in state 1 then Bob won the game \n",
    "\n",
    "$ \\newcommand{\\bra}[1]{\\langle #1|} $\n",
    "$ \\newcommand{\\ket}[1]{|#1\\rangle} $\n",
    "$$\n",
    "     \\ket{0} \\xrightarrow{\\mbox{$Alice$}}  S_A\\ket{0}\n",
    "    \\xrightarrow{\\mbox{$Bob$}}  S_BS_A\\ket{0}\n",
    "    \\xrightarrow{\\mbox{$Alice$}} S_A S_B S_A\\ket{0}\n",
    "    \\xrightarrow{\\mbox{$measure$}} \\ket{0}or\\ket{1}\n",
    "$$\n",
    "\n",
    "where $S_A$ and $S_B$ is the strategies​ choosen by Alice and Bob ."
   ]
  },
  {
   "cell_type": "code",
   "execution_count": null,
   "id": "0aae0b82",
   "metadata": {},
   "outputs": [],
   "source": [
    "%run Game.py #Run this cell to play the bit game"
   ]
  },
  {
   "cell_type": "code",
   "execution_count": null,
   "id": "4c39e57c",
   "metadata": {},
   "outputs": [],
   "source": [
    "S1 = 1 # Stratergy 1 flip the bit same as applying a not operation on the Bit \n",
    "S2 = 0 # Stratergy 2 no change in the state of the bit smae as applying identy on Bit\n",
    "\n",
    "# The sequence is as follows:\n",
    "#bit_game (Alice,Bob,Alice)\n",
    "\n",
    "Game.bit_game(S1,S1,S2)"
   ]
  },
  {
   "cell_type": "markdown",
   "id": "39f2039c",
   "metadata": {},
   "source": [
    "$ $"
   ]
  },
  {
   "cell_type": "markdown",
   "id": "b0957b5d",
   "metadata": {},
   "source": [
    "<h3>Task 1</h3>\n",
    "\n",
    "If bob strictly chooses to follow the strategy 1 (S1), what do we observe in the result ?\n",
    "\n",
    "<br>If Alice strictly chooses to follow the strategy 1 (S1), what do we observe in the result ?</br>"
   ]
  },
  {
   "cell_type": "code",
   "execution_count": null,
   "id": "ccc3dfb6",
   "metadata": {},
   "outputs": [],
   "source": [
    "# what if Alice always chooses S1\n",
    "#Game.bit_game(S2,S1,S1)\n"
   ]
  },
  {
   "cell_type": "code",
   "execution_count": null,
   "id": "09213690",
   "metadata": {},
   "outputs": [],
   "source": [
    "\n",
    "# what if Alice always chooses S1"
   ]
  },
  {
   "cell_type": "markdown",
   "id": "2e51b5d7",
   "metadata": {},
   "source": [
    "<a href=\"Task Answers 1.ipynb#Task 1\">Solution</a>"
   ]
  },
  {
   "cell_type": "markdown",
   "id": "d8016fe8",
   "metadata": {},
   "source": [
    "<h3>Task 2</h3>\n",
    "\n",
    "If bob strictly chooses to follow the strategy 2 (S2), what do we observe in the result ?\n",
    "\n",
    "<br>If Alice strictly chooses to follow the strategy 2 (S2), what do we observe in the result ?</br>"
   ]
  },
  {
   "cell_type": "code",
   "execution_count": null,
   "id": "b7d76b78",
   "metadata": {},
   "outputs": [],
   "source": [
    "# what if Alice always chooses S2\n",
    "#Game.bit_game(S2,S2,S1)\n",
    "#Game.bit_game(S1,S2,S1)"
   ]
  },
  {
   "cell_type": "code",
   "execution_count": null,
   "id": "42d7891e",
   "metadata": {},
   "outputs": [],
   "source": [
    "# what if Alice always chooses S2\n",
    "#Game.bit_game(S2,S1,S2)\n",
    "#Game.bit_game(S2,S2,S2)"
   ]
  },
  {
   "cell_type": "markdown",
   "id": "4d863710",
   "metadata": {},
   "source": [
    "<a href=\"Task Answers 1.ipynb#Task 2\">Solution</a>"
   ]
  },
  {
   "cell_type": "markdown",
   "id": "27e7aa92",
   "metadata": {},
   "source": [
    "Let's us observe all the possible combination of Strategies S1 and S2 that could occur:\n",
    "<br>All the possible combination of Stratergies  = $ 2^3 $ = 8</br>\n"
   ]
  },
  {
   "cell_type": "code",
   "execution_count": null,
   "id": "57f1188f",
   "metadata": {},
   "outputs": [],
   "source": [
    "Game.All_Possibility() #this function executes all the possible combinations "
   ]
  },
  {
   "cell_type": "markdown",
   "id": "1dbf9396",
   "metadata": {},
   "source": [
    "Probability that Alice wins the game = $\\dfrac{4}{8} = 0.5$</br>\n",
    "<br>Probability that Bob wins the game = $\\dfrac{4}{8} = 0.5$</br>\n",
    "\n",
    "The bit flip game is simmilar to a coin toss because probability of Alice or Bob winning is the same ie.50-50\n",
    "\n",
    "Also the Bit game is a Zero-Sum game,so there is no Nash Equlibrium strategy."
   ]
  },
  {
   "cell_type": "markdown",
   "id": "908063f1",
   "metadata": {},
   "source": [
    "<h3>Task 3</h3>\n",
    "\n",
    "use random fuction to choose stratergy and simulate the game for 10,100,1000 times and observe the results"
   ]
  },
  {
   "cell_type": "code",
   "execution_count": null,
   "id": "a6d89288",
   "metadata": {},
   "outputs": [],
   "source": [
    "from random import randrange\n",
    "\n",
    "# your code here\n"
   ]
  },
  {
   "cell_type": "markdown",
   "id": "bd399c58",
   "metadata": {},
   "source": [
    "<a href=\"Task Answers 1.ipynb#Task 3\">Solution</a>"
   ]
  },
  {
   "cell_type": "markdown",
   "id": "8f03a0bd",
   "metadata": {},
   "source": [
    "<h3>Minority game</h3>\n",
    "\n",
    "Minority game is a 4 player game. Where a player wins if their outcome is diffrent than the outcome of other playes.(i.e suppose the player1 outcome is 1 and player2, player3, player4 outcome is 0 then player one wins or vice-versa). Players are restricted to choose from classical strategy such as $X$ and $I$ "
   ]
  },
  {
   "cell_type": "code",
   "execution_count": null,
   "id": "24f40394",
   "metadata": {},
   "outputs": [],
   "source": [
    "%run Game.py\n",
    "z = [1,1,1,0]\n",
    "Game.minority_game(z)"
   ]
  },
  {
   "cell_type": "code",
   "execution_count": null,
   "id": "898409be",
   "metadata": {},
   "outputs": [],
   "source": [
    "Game.All_possibility_minority_game()"
   ]
  },
  {
   "cell_type": "markdown",
   "id": "ec9982df",
   "metadata": {},
   "source": [
    "In minority game each player has a ($\\frac{1}{8}$) chance of winning\n",
    "\n",
    "Also the minority game is a Zero-Sum game,so there is no Nash Equlibrium strategy."
   ]
  },
  {
   "cell_type": "markdown",
   "id": "405ff31c",
   "metadata": {},
   "source": [
    "<h3>Task 4</h3>\n",
    "\n",
    "use random fuction to choose stratergy and simulate the minority game for 10,100,1000 times and observe the results."
   ]
  },
  {
   "cell_type": "code",
   "execution_count": null,
   "id": "7e2a6d91",
   "metadata": {},
   "outputs": [],
   "source": [
    "%run Game.py\n",
    "from random import randrange\n",
    "\n",
    "# your code here"
   ]
  },
  {
   "cell_type": "markdown",
   "id": "c1bf6701",
   "metadata": {},
   "source": [
    "<a href=\"Task Answers 1.ipynb#Task 4\">Solution</a>"
   ]
  },
  {
   "cell_type": "markdown",
   "id": "98f43780",
   "metadata": {},
   "source": [
    "<h3>Prisoners Dilema  </h3>\n",
    "\n",
    "To play the prisoners Dilema you will require to install the axelrod package for python.\n",
    "<br>paste this command:</b> -<b> pip install axelrod</b>"
   ]
  },
  {
   "cell_type": "code",
   "execution_count": null,
   "id": "20f344c4",
   "metadata": {},
   "outputs": [],
   "source": [
    "import axelrod as axl # Import axelrod package"
   ]
  },
  {
   "cell_type": "code",
   "execution_count": null,
   "id": "083beb74",
   "metadata": {},
   "outputs": [],
   "source": [
    "axl.__version__ # shows the version of the package"
   ]
  },
  {
   "cell_type": "code",
   "execution_count": null,
   "id": "2ecf7ce5",
   "metadata": {},
   "outputs": [],
   "source": [
    "len(axl.strategies) # shows the number of stratergies\n",
    "# axl.strategies #<-- run this to see all the name of stratergies included with the package"
   ]
  },
  {
   "cell_type": "markdown",
   "id": "bdd60489",
   "metadata": {},
   "source": [
    "Strategies are a set of moves that a player follows to play or win a game.The player with the best stratege wins with maximum payoff. In prisoners dilemma players can either <b>Coperate</b> or <b>Defect</b>\n",
    "\n",
    "players playing prisoners dilemma might have diffrent strategies to follow like :\n",
    "- Coperate (always coperate with the other player)\n",
    "- Defect (always defect with the other player)\n",
    "- Tit For Tat (first it will try to coperate but if the player trys to defect then in the next round it will defect also Vice-Versa)\n",
    "- Alternator ( alternates between Coperation and Defect)"
   ]
  },
  {
   "cell_type": "code",
   "execution_count": null,
   "id": "af791b1f",
   "metadata": {},
   "outputs": [],
   "source": [
    "import axelrod as axl\n",
    "\n",
    "player1 = axl.Cooperator() # player 1 always Coperate \n",
    "player2 = axl.Defector() # player 2 always Defects \n",
    "\n",
    "match = axl.Match((player1,player2),turns = 2) # Matching betweeen two playes strategies for 2 turns \n",
    "\n",
    "display(match.play()) # display the moves \n",
    "\n",
    "match.final_score_per_turn() # return the payoff of the players 1&2 "
   ]
  },
  {
   "cell_type": "markdown",
   "id": "29bbdd1c",
   "metadata": {},
   "source": [
    "Player 1 (the Cooperator) recives a playoff of 0 and player 2 (The Defector) recives a payoff 5 \n",
    "<br>Payoff of player 2 > player 1 , so player 2 wins and player 1 looses</br> "
   ]
  },
  {
   "cell_type": "markdown",
   "id": "d59d12f9",
   "metadata": {},
   "source": [
    "$ $"
   ]
  },
  {
   "cell_type": "markdown",
   "id": "e3ab1688",
   "metadata": {},
   "source": [
    "Alice and Bob playing the prisoner's dilema with diffrent stratergires for multiple times"
   ]
  },
  {
   "cell_type": "code",
   "execution_count": null,
   "id": "729db481",
   "metadata": {},
   "outputs": [],
   "source": [
    "import axelrod as axl\n",
    "\n",
    "Alice  = axl.TitForTat()\n",
    "Bob = axl.Alternator()\n",
    "\n",
    "match = axl.Match((Alice,Bob),turns = 4) #match playing between alice & bob for 4 times\n",
    "\n",
    "display(match.play())\n",
    "\n",
    "result = match.final_score_per_turn()\n",
    "\n",
    "print(\"Alice's playoff is \",result[0],\",\" \"\" \" Bob's payoff is\", result[1])\n",
    "print()\n",
    "if (result[0]>result[1]):\n",
    "    print(\"Alice won the game \")\n",
    "elif(result[0] == result[1]):\n",
    "    print(\"Tie\")\n",
    "else:\n",
    "    print(\"Bob won the game\")"
   ]
  },
  {
   "cell_type": "markdown",
   "id": "df1a0493",
   "metadata": {},
   "source": [
    "$ $"
   ]
  },
  {
   "cell_type": "markdown",
   "id": "414ea061",
   "metadata": {},
   "source": [
    "Multiple players playing the game with more than one strategies"
   ]
  },
  {
   "cell_type": "code",
   "execution_count": null,
   "id": "23e5cd8b",
   "metadata": {},
   "outputs": [],
   "source": [
    "import axelrod as axl\n",
    "\n",
    "players = (axl.Cooperator(),axl.Defector(), axl.Alternator()) # strategies to compare\n",
    "\n",
    "n = 10 # n is number of turns\n",
    "\n",
    "tournament = axl.Tournament(players = players,turns =n) # declare a tournament between strategies \n",
    "\n",
    "results = tournament.play() #play tournament\n",
    "\n",
    "a = results.ranked_names # Display winners \n",
    "print(\"The winner is -->\",a[0],\"|\"\"second place -->\",a[1],\"|\" \"Third place -->\",a[2])"
   ]
  },
  {
   "cell_type": "markdown",
   "id": "5e774ed5",
   "metadata": {},
   "source": [
    "<h3>Task 5</h3>\n",
    "\n",
    "play a Match between 4 strategies<b>(Cooperator, Defector, Alternator, TitForTat, Random)</b> and find out which one is the best strategy to follow ?"
   ]
  },
  {
   "cell_type": "code",
   "execution_count": null,
   "id": "807f0727",
   "metadata": {},
   "outputs": [],
   "source": [
    "# your code here"
   ]
  },
  {
   "cell_type": "markdown",
   "id": "322b766a",
   "metadata": {},
   "source": [
    "<a href=\"Task Answers 1.ipynb#Task 2\">Solution</a>"
   ]
  }
 ],
 "metadata": {
  "kernelspec": {
   "display_name": "Python 3 (ipykernel)",
   "language": "python",
   "name": "python3"
  },
  "language_info": {
   "codemirror_mode": {
    "name": "ipython",
    "version": 3
   },
   "file_extension": ".py",
   "mimetype": "text/x-python",
   "name": "python",
   "nbconvert_exporter": "python",
   "pygments_lexer": "ipython3",
   "version": "3.9.7"
  }
 },
 "nbformat": 4,
 "nbformat_minor": 5
}

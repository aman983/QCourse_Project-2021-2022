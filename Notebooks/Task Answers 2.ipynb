{
 "cells": [
  {
   "cell_type": "markdown",
   "id": "019912bd",
   "metadata": {},
   "source": [
    "<h2> <font color=\"blue\"> Solution for </font>Notebook 3</h2>"
   ]
  },
  {
   "cell_type": "markdown",
   "id": "626ceeee",
   "metadata": {},
   "source": [
    "<h3>Task 1 </h3>\n",
    "\n",
    "From the information provided above construct the Circuit in Qiskit that executes the above scenario."
   ]
  },
  {
   "cell_type": "code",
   "execution_count": null,
   "id": "3d5ba51e",
   "metadata": {},
   "outputs": [],
   "source": [
    "from qiskit import *\n",
    "q = QuantumRegister(1,'q')\n",
    "c = ClassicalRegister(1,'c')\n",
    "qc = QuantumCircuit(q,c)\n",
    "\n",
    "qc.h(q[0]) # Alice applies hadamard\n",
    "\n",
    "qc.x(q[0]) # bob applies hadamard\n",
    "\n",
    "qc.h(q[0]) # Alice applies hadamard\n",
    "\n",
    "qc.measure(q,c)\n",
    "display(qc.draw(output = 'mpl'))\n",
    "job = execute(qc,Aer.get_backend('qasm_simulator'),shots = 1)\n",
    "counts = job.result().get_counts(qc)\n",
    "print(counts)"
   ]
  },
  {
   "cell_type": "markdown",
   "id": "77c51375",
   "metadata": {},
   "source": [
    "<h3>Task 2 </h3>\n",
    "\n",
    "From the information provided above construct the Circuit in Qiskit that executes the above scenario."
   ]
  },
  {
   "cell_type": "code",
   "execution_count": null,
   "id": "644eb37e",
   "metadata": {},
   "outputs": [],
   "source": [
    "from qiskit import *\n",
    "q = QuantumRegister(1,'q')\n",
    "c = ClassicalRegister(1,'c')\n",
    "qc = QuantumCircuit(q,c)\n",
    "\n",
    "qc.h(q[0]) # Alice applies hadamard\n",
    "\n",
    "qc.z(q[0]) # bob applies hadamard\n",
    "\n",
    "qc.h(q[0]) # Alice applies hadamard\n",
    "\n",
    "qc.measure(q,c)\n",
    "display(qc.draw(output = 'mpl'))\n",
    "job = execute(qc,Aer.get_backend('qasm_simulator'),shots = 1)\n",
    "counts = job.result().get_counts(qc)\n",
    "print(counts)"
   ]
  },
  {
   "cell_type": "markdown",
   "id": "39e907af",
   "metadata": {},
   "source": [
    "<h3>Task 3</h3>\n",
    "\n",
    "when both the player are playing with the classical stratergy such as  𝐼  or  𝑋 . Then verify that the outcome of the game is same as the outcome of the classical version game."
   ]
  },
  {
   "cell_type": "code",
   "execution_count": null,
   "id": "748ae9b7",
   "metadata": {},
   "outputs": [],
   "source": [
    "%run Game.py\n",
    "from qiskit import *\n",
    "from qiskit.quantum_info import Operator\n",
    "from qiskit.visualization import plot_histogram\n",
    "import numpy as np\n",
    "\n",
    "I = np.identity(4)\n",
    "\n",
    "X = np.matrix([[0,0,0,1],\n",
    "               [0,0,1,0],\n",
    "               [0,1,0,0],\n",
    "               [1,0,0,0]])\n",
    "\n",
    "O = Operator(1/np.sqrt(2) * (I + 1j * X))\n",
    "O_dg = Operator(1 / np.sqrt(2) * (I - 1j * X))\n",
    "\n",
    "q = QuantumRegister(2,'q')\n",
    "c = ClassicalRegister(2,'c')\n",
    "qc = QuantumCircuit(q,c)\n",
    "qc.append(O,[0,1]) # Apply the operator O\n",
    "qc.barrier()\n",
    "\n",
    "qc.i(q[0]) # Alice's qubit\n",
    "qc.i(q[1]) # Bob's qubit\n",
    "qc.barrier()\n",
    "\n",
    "qc.append(O_dg,[0,1]) # Apply the operator Odg\n",
    "qc.barrier()\n",
    "\n",
    "qc.measure(q,c) # measure the qubits\n",
    "display(qc.draw(output = 'mpl',reverse_bits = True))\n",
    "job = execute(qc,Aer.get_backend('qasm_simulator'),shots = 1000)\n",
    "counts = job.result().get_counts(qc)\n",
    "print(counts)\n",
    "    \n",
    "\n",
    "Game.result(counts)\n",
    "\n",
    "plot_histogram(counts)"
   ]
  },
  {
   "cell_type": "markdown",
   "id": "54fe1961",
   "metadata": {},
   "source": [
    "<h3>Task 4</h3>\n",
    "\n",
    "Find the counter strategy that Bob can use against Alice if she applies $H$ on her qubit. \n",
    "\n",
    "Also observe what happens when:\n",
    "- Alice applies $H$, Bob applies $I$.\n",
    "- Alice applies $I$, Bob applies $H$.\n",
    "- if both of them apply $H$ "
   ]
  },
  {
   "cell_type": "code",
   "execution_count": null,
   "id": "80a69ef0",
   "metadata": {},
   "outputs": [],
   "source": [
    "%run Game.py\n",
    "from qiskit import *\n",
    "from qiskit.quantum_info import Operator\n",
    "from qiskit.visualization import plot_histogram\n",
    "import numpy as np\n",
    "\n",
    "I = np.identity(4)\n",
    "\n",
    "X = np.matrix([[0,0,0,1],\n",
    "               [0,0,1,0],\n",
    "               [0,1,0,0],\n",
    "               [1,0,0,0]])\n",
    "\n",
    "O = Operator(1/np.sqrt(2) * (I + 1j * X))\n",
    "O_dg = Operator(1 / np.sqrt(2) * (I - 1j * X))\n",
    "\n",
    "q = QuantumRegister(2,'q')\n",
    "c = ClassicalRegister(2,'c')\n",
    "qc = QuantumCircuit(q,c)\n",
    "qc.append(O,[0,1]) # Apply the operator O\n",
    "qc.barrier()\n",
    "\n",
    "qc.h(q[0]) # Alice's qubit\n",
    "qc.i(q[1]) # Bob's qubit\n",
    "qc.barrier()\n",
    "\n",
    "qc.append(O_dg,[0,1]) # Apply the operator Odg\n",
    "qc.barrier()\n",
    "\n",
    "qc.measure(q,c) # measure the qubits\n",
    "display(qc.draw(output = 'mpl',reverse_bits = True))\n",
    "job = execute(qc,Aer.get_backend('qasm_simulator'),shots = 1000)\n",
    "counts = job.result().get_counts(qc)\n",
    "print(counts)\n",
    "    \n",
    "\n",
    "Game.result(counts)\n",
    "\n",
    "plot_histogram(counts)"
   ]
  },
  {
   "cell_type": "markdown",
   "id": "1f81c3b7",
   "metadata": {},
   "source": [
    "- From the results we observe that when Alice applies $H$ and Bob applies $Z$ Bob can either win the game or they will cooperate.\n",
    "\n",
    "- When Alice uses $H$ and bob uses $I$ then Alice wins half of the time and rest of the time they defect.\n",
    "\n",
    "- When Bob uses $H$ and Alice uses $I$ then Bob wins half of the time and rest of the time they defect.\n",
    "\n",
    "- When both of them apply $H$ then  the game turn into a fair game where the chances of them winning is $\\frac{1}{4}$"
   ]
  },
  {
   "cell_type": "markdown",
   "id": "923aa4cf",
   "metadata": {},
   "source": [
    "<h3>Task 5</h3> \n",
    "\n",
    "Lets say that player 1 applies pauli-Z and the player 2 applies pauli-Z and pauli-X. Then apply the following gates observe the results. "
   ]
  },
  {
   "cell_type": "code",
   "execution_count": null,
   "id": "ffabbbea",
   "metadata": {},
   "outputs": [],
   "source": [
    "from qiskit import *\n",
    "q = QuantumRegister(2)\n",
    "c = ClassicalRegister(2)\n",
    "qc = QuantumCircuit(q,c)\n",
    "\n",
    "qc.append(O,[0,1]) # Apply the operator O\n",
    "qc.barrier()\n",
    "\n",
    "qc.x(q[0]) # Alice's qubit\n",
    "qc.z(q[0])\n",
    "\n",
    "qc.z(q[1]) # Bob's qubit\n",
    "\n",
    "\n",
    "qc.barrier()\n",
    "\n",
    "qc.append(O_dg,[0,1]) # Apply the operator Odg\n",
    "qc.barrier()\n",
    "\n",
    "qc.measure(q,c) # measure the qubits\n",
    "display(qc.draw(output = 'mpl',reverse_bits = True))\n",
    "job = execute(qc,Aer.get_backend('qasm_simulator'),shots = 1000)\n",
    "counts = job.result().get_counts(qc)\n",
    "print(counts)\n",
    "    \n",
    "\n",
    "Game.result(counts)\n",
    "\n",
    "plot_histogram(counts)"
   ]
  },
  {
   "cell_type": "markdown",
   "id": "569dc24c",
   "metadata": {},
   "source": [
    "The player wins against the player who use $Z$ as a strategy."
   ]
  }
 ],
 "metadata": {
  "kernelspec": {
   "display_name": "Python 3 (ipykernel)",
   "language": "python",
   "name": "python3"
  },
  "language_info": {
   "codemirror_mode": {
    "name": "ipython",
    "version": 3
   },
   "file_extension": ".py",
   "mimetype": "text/x-python",
   "name": "python",
   "nbconvert_exporter": "python",
   "pygments_lexer": "ipython3",
   "version": "3.9.7"
  }
 },
 "nbformat": 4,
 "nbformat_minor": 5
}

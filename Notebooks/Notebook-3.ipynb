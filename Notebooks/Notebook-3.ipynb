{
 "cells": [
  {
   "cell_type": "markdown",
   "id": "aa233ae2",
   "metadata": {},
   "source": [
    "<table width=\"100%\"><tr><td style=\"color:#bbbbbb;background-color:#ffffff;font-size:11px;font-style:italic;text-align:right;\">This cell contains some macros. If there is a problem with displaying mathematical formulas, please run this cell to load these macros. </td></tr></table>\n",
    "$ \\newcommand{\\bra}[1]{\\langle #1|} $\n",
    "$ \\newcommand{\\ket}[1]{|#1\\rangle} $\n",
    "$ \\newcommand{\\braket}[2]{\\langle #1|#2\\rangle} $\n",
    "$ \\newcommand{\\dot}[2]{ #1 \\cdot #2} $\n",
    "$ \\newcommand{\\biginner}[2]{\\left\\langle #1,#2\\right\\rangle} $\n",
    "$ \\newcommand{\\mymatrix}[2]{\\left( \\begin{array}{#1} #2\\end{array} \\right)} $\n",
    "$ \\newcommand{\\myvector}[1]{\\mymatrix{c}{#1}} $\n",
    "$ \\newcommand{\\myrvector}[1]{\\mymatrix{r}{#1}} $\n",
    "$ \\newcommand{\\mypar}[1]{\\left( #1 \\right)} $\n",
    "$ \\newcommand{\\mybigpar}[1]{ \\Big( #1 \\Big)} $\n",
    "$ \\newcommand{\\sqrttwo}{\\frac{1}{\\sqrt{2}}} $\n",
    "$ \\newcommand{\\dsqrttwo}{\\dfrac{1}{\\sqrt{2}}} $\n",
    "$ \\newcommand{\\onehalf}{\\frac{1}{2}} $\n",
    "$ \\newcommand{\\donehalf}{\\dfrac{1}{2}} $\n",
    "$ \\newcommand{\\hadamard}{ \\mymatrix{rr}{ \\sqrttwo & \\sqrttwo \\\\ \\sqrttwo & -\\sqrttwo }} $\n",
    "$ \\newcommand{\\vzero}{\\myvector{1\\\\0}} $\n",
    "$ \\newcommand{\\vone}{\\myvector{0\\\\1}} $\n",
    "$ \\newcommand{\\vhadamardzero}{\\myvector{ \\sqrttwo \\\\  \\sqrttwo } } $\n",
    "$ \\newcommand{\\vhadamardone}{ \\myrvector{ \\sqrttwo \\\\ -\\sqrttwo } } $\n",
    "$ \\newcommand{\\myarray}[2]{ \\begin{array}{#1}#2\\end{array}} $\n",
    "$ \\newcommand{\\X}{ \\mymatrix{cc}{0 & 1 \\\\ 1 & 0}  } $\n",
    "$ \\newcommand{\\Z}{ \\mymatrix{rr}{1 & 0 \\\\ 0 & -1}  } $\n",
    "$ \\newcommand{\\Htwo}{ \\mymatrix{rrrr}{ \\frac{1}{2} & \\frac{1}{2} & \\frac{1}{2} & \\frac{1}{2} \\\\ \\frac{1}{2} & -\\frac{1}{2} & \\frac{1}{2} & -\\frac{1}{2} \\\\ \\frac{1}{2} & \\frac{1}{2} & -\\frac{1}{2} & -\\frac{1}{2} \\\\ \\frac{1}{2} & -\\frac{1}{2} & -\\frac{1}{2} & \\frac{1}{2} } } $\n",
    "$ \\newcommand{\\CNOT}{ \\mymatrix{cccc}{1 & 0 & 0 & 0 \\\\ 0 & 1 & 0 & 0 \\\\ 0 & 0 & 0 & 1 \\\\ 0 & 0 & 1 & 0} } $\n",
    "$ \\newcommand{\\norm}[1]{ \\left\\lVert #1 \\right\\rVert } $\n",
    "$ \\newcommand{\\pstate}[1]{ \\lceil \\mspace{-1mu} #1 \\mspace{-1.5mu} \\rfloor } $"
   ]
  },
  {
   "cell_type": "markdown",
   "id": "6fbd951c",
   "metadata": {},
   "source": [
    "<h3>Quantum version of Bit Game</h3>\n",
    "\n",
    "There are two player in this game Alice and Bob. They are given a Quantum bit (Qubit) to manuplate.\n",
    "\n",
    "- Initally the Qubit is set to spin up or zero state $ \\ket{0}$.\n",
    "- Alice applies the Gate to the Qubit\n",
    "- Bob applies the Gate to the Qubit\n",
    "- Alice again applies the Gate to the Qubit\n",
    "\n",
    "\n",
    "$ \\newcommand{\\bra}[1]{\\langle #1|} $\n",
    "$ \\newcommand{\\ket}[1]{|#1\\rangle} $\n",
    "\n",
    "$$\n",
    "\\ket{0} \\xrightarrow{\\mbox{Alice move}} A_1\\ket{0} \n",
    "    \\xrightarrow{\\mbox{Bob move}} B_1 A_1 \\ket{0}\n",
    "    \\xrightarrow{\\mbox{Alice move}} A_2 B_1 A_1\\ket{0}\n",
    "    \\xrightarrow{\\mbox{Measure}} \\ket{0} or \\ket{1}\n",
    "$$\n",
    "Where$ A_1$,$B_1$,$A_2$ are the gates applied by Alice and Bob"
   ]
  },
  {
   "cell_type": "markdown",
   "id": "e47e5eaf",
   "metadata": {},
   "source": [
    "$ $"
   ]
  },
  {
   "cell_type": "markdown",
   "id": "c6ddb716",
   "metadata": {},
   "source": [
    "<b>Lets say that alice can now apply Hadamard gate to the Qubit while Bob can only choose from Not & Identity </b>\n",
    "- Alice can choose from ($I,X,H$)\n",
    "- Bob can choose form ($I,X$)\n",
    "\n",
    "If the Qubit remains in the state $\\ket{0}$ then Alice wins\n",
    "\n",
    "If the Qubit remains in the state $\\ket{1}$ then Bob wins\n",
    "\n",
    " \n",
    "- Intial state of the Qubit : $\\ket{\\psi} = \\myvector{1 \\\\ 0}$\n",
    "\n",
    "- Now Alice applies Hadamard to the Qubit $\\ket{\\psi} = \\hadamard\\myvector{1 \\\\ 0} = \\myvector{\\frac{1}{\\sqrt2}\\\\ \\frac{1}{\\sqrt2}}$\n",
    "\n",
    "- Now Bob can apply either choose $I$ or $X$ gate \n",
    "\n",
    "\n",
    "\n",
    "- If Bob chooses $I$ then state $\\ket{\\psi} =\\mymatrix {}{1 & 0  \\\\ 0 & 1 }  \\myvector{\\frac{1}{\\sqrt2}\\\\ \\frac{1}{\\sqrt2}} = \\myvector{\\frac{1}{\\sqrt2}\\\\ \\frac{1}{\\sqrt2}}$\n",
    "\n",
    "\n",
    "\n",
    "- If Bob chooses $X$ then state $\\ket{\\psi} =\\mymatrix {}{0& 1 \\\\ 1 & 0 }  \\myvector{\\frac{1}{\\sqrt2}\\\\ \\frac{1}{\\sqrt2}} = \\myvector{\\frac{1}{\\sqrt2}\\\\ \\frac{1}{\\sqrt2}}$\n",
    "\n",
    "\n",
    "- Now Alice again applies Hadamard to the Qubit $\\ket{\\psi} = \\hadamard\\myvector{\\frac{1}{\\sqrt2}\\\\ \\frac{1}{\\sqrt2}} = \\myvector{1 \\\\ 0}$"
   ]
  },
  {
   "cell_type": "markdown",
   "id": "097fc835",
   "metadata": {},
   "source": [
    "<h3>Task 1 </h3>\n",
    "\n",
    "From the information provided above construct the Circuit in Qiskit that executes the above scenario. "
   ]
  },
  {
   "cell_type": "code",
   "execution_count": null,
   "id": "3fa903a4",
   "metadata": {},
   "outputs": [],
   "source": [
    "from qiskit import *\n",
    "q = QuantumRegister(1,'q')\n",
    "c = ClassicalRegister(1,'c')\n",
    "qc = QuantumCircuit(q,c)\n",
    "\n",
    "# Your code here"
   ]
  },
  {
   "cell_type": "markdown",
   "id": "7cc7fe1b",
   "metadata": {},
   "source": [
    "<a href=\"Task Answers 2.ipynb#Task 1\">click for our solution</a>"
   ]
  },
  {
   "cell_type": "markdown",
   "id": "4010cec0",
   "metadata": {},
   "source": [
    "We observed that when Alice used Quantum moves and Bob used Classical moves, Alice always wins. now Bob decides to go Quantum.  \n",
    "\n",
    "Lets say that Bob can now apply Z gate to the Qubit while Alice can only choose from Not , Identity & Hadamard.\n",
    "- Alice can choose from ($I,X,H$) \n",
    "- Bob can choose form ($I,X,Z$)\n",
    "\n",
    "If the Qubit remains in the state $\\ket{0}$ then Alice wins\n",
    "\n",
    "If the Qubit remains in the state $\\ket{1}$ then Bob wins\n",
    "\n",
    "- Intial state of the Qubit : $\\ket{\\psi} = \\myvector{1 \\\\ 0}$\n",
    "\n",
    "- Now Alice applies Hadamard to the Qubit $\\ket{\\psi} = \\hadamard\\myvector{1 \\\\ 0} = \\myvector{\\frac{1}{\\sqrt2}\\\\ \\frac{1}{\\sqrt2}}$\n",
    "\n",
    "\n",
    "- Bob chooses $Z$ then state $\\ket{\\psi} =\\mymatrix {}{1 & 0  \\\\ 0 & -1 }  \\myvector{\\frac{1}{\\sqrt2}\\\\ \\frac{1}{\\sqrt2}} = \\myvector{\\frac{1}{\\sqrt2}\\\\ - \\frac{1}{\\sqrt2}}$\n",
    "\n",
    "\n",
    "- Now Alice applies Hadamard to the Qubit $\\ket{\\psi} = \\hadamard\\myvector{\\frac{1}{\\sqrt2}\\\\ - \\frac{1}{\\sqrt2}} = \\myvector{0 \\\\ 1}$"
   ]
  },
  {
   "cell_type": "markdown",
   "id": "7785eda5",
   "metadata": {},
   "source": [
    "<h3>Task 2 </h3>\n",
    "\n",
    "From the information provided above construct the Circuit in Qiskit that executes the above scenario. "
   ]
  },
  {
   "cell_type": "code",
   "execution_count": null,
   "id": "04b7cb7f",
   "metadata": {},
   "outputs": [],
   "source": [
    "from qiskit import *\n",
    "q = QuantumRegister(1,'q')\n",
    "c = ClassicalRegister(1,'c')\n",
    "qc = QuantumCircuit(q,c)\n",
    "\n",
    "# Your code here"
   ]
  },
  {
   "cell_type": "markdown",
   "id": "fb05d603",
   "metadata": {},
   "source": [
    "<a href=\"Task Answers 2.ipynb#Task 2\">click for our solution</a>"
   ]
  },
  {
   "cell_type": "markdown",
   "id": "96a33806",
   "metadata": {},
   "source": [
    "<h3>Quantum version of prisoner's dillema</h3>"
   ]
  },
  {
   "cell_type": "markdown",
   "id": "83635cb0",
   "metadata": {},
   "source": [
    "Quantum Game Theory is a field that was first introduced by D. Meyer in 1999 but it wasn't until later that year that a formal quantum game theory protocol was invented by Eisert, Wilkens & Lewenstein and hence is called the \"EWL quantization protocol\". EWL protocol is essential for playing Quantum games.\n",
    "\n",
    "EWL quantization protocol:\n",
    "\n",
    "<br><b>1. Initialization the circuit</b> : we start with a quantum register with 2 qubits being in state $\\ket{00}$ and with a classical register with 2 bits being in state (00) to store the output.\n",
    "\n",
    "$$ \\ket{\\psi} = \\ket{00}$$\n",
    "\n",
    "<br><b>2. Entanglement</b>: In order for EWL protocol to work we need to have the two qubits maximally entangled with each other before the players play the game. We can achieve this by appling an operator. For simplicity lets call this operator ($O$)</br>\n",
    "\n",
    "$$ \\ket{\\psi} = O\\ket{00}$$\n",
    "\n",
    "<br><b>3. Strategy</b>: Each player is given two qubit and they can apply Unitary operations($U$) on their qubits (while in classical game they can only apply $X or I$). Now lets say players have applied their operator $U_1$ and  $U_2$ respectively. Now the state is:</br>\n",
    "\n",
    "$$ \\ket{\\psi} = U_1 U_2 O\\ket{00}$$\n",
    "\n",
    "<br><b>4. Untanglement</b>: The qubit are passed thru an Untanglement operator $O^{\\dagger}$. Now the state is:\n",
    "\n",
    "$$ \\ket{\\psi} = O^{\\dagger} U_1 U_2 O\\ket{00}$$\n",
    "\n",
    "<br><b>5. Measure</b>: Now we measure the qubits and store the outcomes into our classical register which has 2 bits</br>\n",
    "\n",
    "<br><b>6. Output</b>: The output is the combination of the two bits in the classical register.</br>"
   ]
  },
  {
   "cell_type": "markdown",
   "id": "69aeebfd",
   "metadata": {},
   "source": [
    "<h3> The entanglement operator $O$</h3>\n",
    "\n",
    "The Entanglement and Untanglement operator $O $ and $ O^{\\dagger}$ must follow following rules:\n",
    "\n",
    "- The operator makes maximum entanglement between two qubits before they are given to players.\n",
    "\n",
    "- when both the player are playing with the classical stratergy such as $I$ or $X$. Then the outcome of the game should be same as the outcome of the classical version game.\n",
    "\n",
    "This leaves us with many operators but we choose this operator:\n",
    "$$O = \\frac{1}{\\sqrt{2}} (I^{\\otimes{2}} + i X^{\\otimes{2}})$$\n",
    "\n",
    "$$ I^{\\otimes{2}} = \\mymatrix{cccc}{1 & 0 & 0 & 0 \\\\ 0 & 1 & 0 & 0 \\\\ 0 & 0 & 1 & 0 \\\\ 0 & 0 & 0 & 1 }  $$\n",
    "\n",
    "$$ iX^{\\otimes{2}} = \\mymatrix{cccc}{0 & 0 & 0 & i \\\\ 0 & 0 & i & 0 \\\\ 0 & i & 0 & 0 \\\\ i & 0 & 0 & 0 }  $$\n",
    "\n",
    "$$ O = \\frac{1}{\\sqrt{2}}\\mymatrix{cccc}{1 & 0 & 0 & i \\\\ 0 & 1 & i & 0 \\\\ 0 & i & 1 & 0 \\\\ i & 0 & 0 & 1 }  $$\n",
    "\n",
    "where $I$ is identity operator and $X$ is pauli-X gate. The Operator $O$ satasfies the above two conditions. \n",
    "<br>After applying the operator $O$ on the qubits the state is:</br>\n",
    "\n",
    "\\begin{align*}  \\ket{\\psi} &= O\\ket{00} \\\\\n",
    "  &= \\frac{1}{\\sqrt{2}}(\\ket{00} + i\\ket{11})\n",
    "\\end{align*}"
   ]
  },
  {
   "cell_type": "markdown",
   "id": "a5d12487",
   "metadata": {},
   "source": [
    "<b>Step 1</b> : Initialize the circuit with quantum register containing 2 qubits and the classical register containing 2 bits.\n",
    "<br>Initial state is :</br>\n",
    "$$ \\ket{\\psi} = \\ket{00}$$"
   ]
  },
  {
   "cell_type": "code",
   "execution_count": null,
   "id": "33420ca5",
   "metadata": {},
   "outputs": [],
   "source": [
    "from qiskit import *\n",
    "from qiskit.quantum_info import Operator\n",
    "from qiskit.visualization import plot_histogram\n",
    "import numpy as np\n",
    "\n",
    "q = QuantumRegister(2,'q')\n",
    "c = ClassicalRegister(2,'c')\n",
    "qc = QuantumCircuit(2,2)\n",
    "\n",
    "qc.draw(output = 'mpl')"
   ]
  },
  {
   "cell_type": "markdown",
   "id": "de4bb470",
   "metadata": {},
   "source": [
    "Create the $O$ operator for Entanglement between two qubits"
   ]
  },
  {
   "cell_type": "code",
   "execution_count": null,
   "id": "ec8b5107",
   "metadata": {},
   "outputs": [],
   "source": [
    "I = np.identity(4)\n",
    "\n",
    "X = np.matrix([[0,0,0,1],\n",
    "               [0,0,1,0],\n",
    "               [0,1,0,0],\n",
    "               [1,0,0,0]])\n",
    "\n",
    "O = Operator(1/np.sqrt(2) * (I + 1j * X))\n",
    "\n",
    "print(\"The identity operator is --->\",I)\n",
    "print()\n",
    "print(\"The pauli-x operator is --->\",X)\n",
    "print()\n",
    "print(\"The O operator is --->\",O)"
   ]
  },
  {
   "cell_type": "markdown",
   "id": "8d19d990",
   "metadata": {},
   "source": [
    "<b>Step 2</b>: Apply the operator $O$. The state of the qubit is :\n",
    "\n",
    "$$  \\ket{\\psi} = O\\ket{00} $$\n",
    "<br>$$  \\ket{\\psi} = \\frac{1}{\\sqrt{2}}(\\ket{00} + i\\ket{11})$$</br>"
   ]
  },
  {
   "cell_type": "code",
   "execution_count": null,
   "id": "10753cf4",
   "metadata": {},
   "outputs": [],
   "source": [
    "qc = QuantumCircuit(q,c)\n",
    "qc.append(O,[0,1])\n",
    "qc.draw(output = 'mpl')"
   ]
  },
  {
   "cell_type": "markdown",
   "id": "70f368c6",
   "metadata": {},
   "source": [
    "<b>Step 3</b>: Let the players apply the Unitary operator on their individual qubits. For Example player 1 applies the pauli-x and player 2 applies Hadamard on their respective qubits. "
   ]
  },
  {
   "cell_type": "code",
   "execution_count": null,
   "id": "f2dc4846",
   "metadata": {},
   "outputs": [],
   "source": [
    "qc = QuantumCircuit(q,c)\n",
    "qc.append(O,[0,1])\n",
    "\n",
    "qc.x(q[0])\n",
    "qc.h(q[1])\n",
    "\n",
    "qc.draw(output = 'mpl')"
   ]
  },
  {
   "cell_type": "markdown",
   "id": "ab29e4e6",
   "metadata": {},
   "source": [
    "<b>Step 4</b>: Now we apply the Unentanglement operator $O^{\\dagger}$ "
   ]
  },
  {
   "cell_type": "code",
   "execution_count": null,
   "id": "c6b117aa",
   "metadata": {},
   "outputs": [],
   "source": [
    "O_dg = Operator(1 / np.sqrt(2) * (I - 1j * X))\n",
    "\n",
    "qc = QuantumCircuit(2,2)\n",
    "\n",
    "qc.append(O,[0,1])\n",
    "\n",
    "qc.x(0)\n",
    "qc.h(1)\n",
    "\n",
    "qc.append(O_dg,[0,1])\n",
    "display(qc.draw(output = 'mpl'))\n",
    "print(\"The Odg operator is --->\",O_dg)"
   ]
  },
  {
   "cell_type": "markdown",
   "id": "5c8b8788",
   "metadata": {},
   "source": [
    "<b>Step 5</b>: Now we measure the qubit and store the outcomes in the classical register."
   ]
  },
  {
   "cell_type": "code",
   "execution_count": null,
   "id": "b72e9bef",
   "metadata": {},
   "outputs": [],
   "source": [
    "qc = QuantumCircuit(2,2)\n",
    "qc.append(O,[0,1])\n",
    "qc.barrier()\n",
    "\n",
    "qc.x(q[0])\n",
    "qc.s(q[1])\n",
    "qc.barrier()\n",
    "\n",
    "qc.append(O_dg,[0,1])\n",
    "qc.barrier()\n",
    "\n",
    "qc.measure(q,c)\n",
    "display(qc.draw(output = 'mpl'))\n",
    "job = execute(qc,Aer.get_backend('qasm_simulator'),shots = 1000)\n",
    "counts = job.result().get_counts(qc)\n",
    "print(counts)\n",
    "plot_histogram(counts)"
   ]
  },
  {
   "cell_type": "markdown",
   "id": "fe08db22",
   "metadata": {},
   "source": [
    "If the outcome is:\n",
    "- 00 then both of them have cooperated\n",
    "- 01 then player 2 has defected\n",
    "- 10 then player 1 has defected\n",
    "- 11 then both of them have defected\n",
    "\n",
    "The plot $01$ shows the number of times player 1 won against player 2 similarly plot $10$ shows then number of time player 2 won against player 1 of them defected."
   ]
  },
  {
   "cell_type": "markdown",
   "id": "a78ed588",
   "metadata": {},
   "source": [
    "<h3>Task 3</h3>\n",
    "\n",
    "when both the player are playing with the classical stratergy such as  𝐼  or  𝑋 . Then verify that the outcome of the game is same as the outcome of the classical version game."
   ]
  },
  {
   "cell_type": "code",
   "execution_count": null,
   "id": "e4294b38",
   "metadata": {},
   "outputs": [],
   "source": [
    "qc = QuantumCircuit(2,2)\n",
    "qc.append(O,[0,1])\n",
    "qc.barrier()\n",
    "\n",
    "# your code here"
   ]
  },
  {
   "cell_type": "markdown",
   "id": "89eb894c",
   "metadata": {},
   "source": [
    "<a href=\"Task Answers 2.ipynb#Task 3\">click for our solution</a>"
   ]
  },
  {
   "cell_type": "markdown",
   "id": "ed81024a",
   "metadata": {},
   "source": [
    "<h3>Task 4</h3>\n",
    "\n",
    "Find the counter strategy that Bob can use against Alice if she applies $H$ on her qubit. \n",
    "\n",
    "Also observe what happens when:\n",
    "- Alice applies $H$, Bob applies $I$.\n",
    "- Alice applies $I$, Bob applies $H$.\n",
    "- if both of them apply $H$ "
   ]
  },
  {
   "cell_type": "code",
   "execution_count": null,
   "id": "fb8390a2",
   "metadata": {},
   "outputs": [],
   "source": [
    "%run Game.py\n",
    "qc = QuantumCircuit(2,2)\n",
    "qc.append(O,[0,1]) # Apply the operator O\n",
    "qc.barrier()\n",
    "\n",
    "# Your code here"
   ]
  },
  {
   "cell_type": "markdown",
   "id": "f9c510f3",
   "metadata": {},
   "source": [
    "<a href=\"Task Answers 2.ipynb#Task 4\">click for our solution</a>"
   ]
  },
  {
   "cell_type": "markdown",
   "id": "d52055d1",
   "metadata": {},
   "source": [
    "$\n",
    "   \\begin{array}{lc|cc} \n",
    "    & & Bob&Bob&Bob&Bob \\\\ \n",
    "    & & \\mathbf{I} & \\mathbf{X} & \\mathbf{H} & \\mathbf{Z} \\\\ \\hline \n",
    "    Alice& \\mathbf{I} & \\mbox{(3,3)}& \\mbox{(0,5)} & \\mbox{(0.5 , 3)}& \\mbox{(1,1)} \\\\\n",
    "    Alice& \\mathbf{X} & \\mbox{(5,0)}& \\mbox{(1,1)} & \\mbox{(0.5 , 3)}& \\mbox{(0 , 5)} \\\\\n",
    "    Alice& \\mathbf{H} & \\mbox{(3 , 0.5)}& \\mbox{(3 , 0.5)} & \\mbox{(2.25 , 2.25)} & \\mbox{(1.5 , 4)}\\\\\n",
    "    Alice& \\mathbf{Z} & \\mbox{(1,1)}& \\mbox{(5,0)} & \\mbox{(4 , 1.5)} & \\mbox{(3,3)}\\\\\n",
    "     \\end{array} \n",
    "$\n",
    "\n",
    "more payoff = more desirable\n",
    "\n",
    "In classical version of the game the Nash Equlibrium is (1,1) ($X,X$) but when the game is extended to the classical version both the players tend to use the $Z$ strategy because if we compare the strategy $Z$ with other strategyes payoff then the payoff of the player playing the $Z$ are always high than a player who plays other strategy excluding $Z$. Now the Nash Equlibrium strategy is changes from ($X,X$) to ($Z,Z$)."
   ]
  },
  {
   "cell_type": "markdown",
   "id": "f0ed8aaf",
   "metadata": {},
   "source": [
    "<h3>Quantum vs Classical</h3>\n",
    "\n",
    "Lets say if i play classical game with the probabilistic apporach such that i play 60% $X$ and 40% $I$. we still have limited number of gates while in Quantum games a player can apply any unitary operation on the qubits (i.e 10% $U_1|$ 20% $ U_2 |$40% $U_3 |$ 30% $U_4$). Quantum games produce a richer game experience because of the avaliability of many strategy that Classical games cannot reproduce."
   ]
  },
  {
   "cell_type": "markdown",
   "id": "5f54b102",
   "metadata": {},
   "source": [
    "<h3>Quantum player vs Classical player </h3>\n",
    "\n",
    "Alice always plays $X$ or defect but insted of Bob appling $X$ he applies Quantum Strategy to counter to Classical strategy $X$.  \n",
    "\n",
    "lets say Bob applies pauli-z gate on his qubit while alice applies pauli-x gate on her qubit."
   ]
  },
  {
   "cell_type": "code",
   "execution_count": null,
   "id": "b24295c1",
   "metadata": {},
   "outputs": [],
   "source": [
    "%run Game.py\n",
    "qc = QuantumCircuit(2,2)\n",
    "qc.append(O,[0,1]) # Apply the operator O\n",
    "qc.barrier()\n",
    "\n",
    "qc.x(q[0]) # Alice's qubit\n",
    "qc.z(q[1]) # Bob's qubit\n",
    "qc.barrier()\n",
    "\n",
    "qc.append(O_dg,[0,1]) # Apply the operator Odg\n",
    "qc.barrier()\n",
    "\n",
    "qc.measure(q,c) # measure the qubits\n",
    "display(qc.draw(output = 'mpl',reverse_bits = True))\n",
    "job = execute(qc,Aer.get_backend('qasm_simulator'),shots = 1000)\n",
    "counts = job.result().get_counts(qc)\n",
    "print(counts)\n",
    "    \n",
    "\n",
    "Game.result(counts)\n",
    "\n",
    "plot_histogram(counts) "
   ]
  },
  {
   "cell_type": "markdown",
   "id": "73d02fa4",
   "metadata": {},
   "source": [
    "From the results it is observed that bob wins when alice defects all the time.so therofore quantum strategy dominates the classical strategy.  "
   ]
  },
  {
   "cell_type": "markdown",
   "id": "6d9dac80",
   "metadata": {},
   "source": [
    "We just saw that for $X$ the perfect counter strategy is $Z$ but now what is the counter strategy for $Z$. Alice is finding the perfect counter strategy to $Z$."
   ]
  },
  {
   "cell_type": "markdown",
   "id": "7ae20c1a",
   "metadata": {},
   "source": [
    "$$\n",
    "U = \\mymatrix{cc}{\\cos{\\frac{\\theta}{2}} & -e^{i\\lambda}\\sin{\\frac{\\theta}{2}} \\\\ e^{i\\phi}\\sin{\\frac{\\theta}{2}} & e^{i\\lambda + i\\phi}\\cos{\\frac{\\theta}{2}}},\n",
    "$$\n",
    "\n",
    "$$ \n",
    "Z = \\mymatrix{cc}{1&0 \\\\ 0 & -1}\n",
    "$$\n",
    "\n",
    "\\begin{align*}\n",
    "\\ket{\\psi} &= O^{\\dagger}Z U O\\ket{00}\\\\\n",
    "&= O^{\\dagger} Z U \\frac{1}{\\sqrt{2}}(\\ket{00} + i\\ket{11})\\\\ \n",
    "&= O^{\\dagger}  U \\frac{1}{\\sqrt{2}}(\\ket{00} - i\\ket{11})\\\\\n",
    "&= O^{\\dagger} \\frac{1}{\\sqrt{2}}\n",
    "\\biggr[\\ket{0}\\biggr (\\cos \\biggr(\\frac{\\theta}{2}\\biggr)\\ket{0} + e^{i\\phi} \\sin \\biggr(\\frac{\\theta}{2}\\biggr) \\ket{1} \\biggr) - i \\ket{1} \\biggr( -e^{i\\lambda} \\sin \\biggr(\\frac{\\theta}{2}\\biggr)\\ket{0} + e^{i\\phi+i\\lambda}  \\cos \\biggr(\\frac{\\theta}{2}\\biggr)\\ket{1}\\biggr) \\biggr] \\\\\n",
    "&= O^{\\dagger} \\frac{1}{\\sqrt{2}}\\biggr[\\cos \\biggr(\\frac{\\theta}{2}\\biggr)\\ket{00} + e^{i\\phi} \\sin \\biggr(\\frac{\\theta}{2}\\biggr)\\ket{01} + ie^{i\\lambda} \\sin \\biggr(\\frac{\\theta}{2}\\biggr)\\ket{10} - ie^{i\\phi+i\\lambda} \\cos \\biggr(\\frac{\\theta}{2}\\biggr)\\ket{11}\\biggr] \\\\\n",
    "&= \\frac{1}{2}\\biggr[ \\cos \\biggr(\\frac{\\theta}{2}\\biggr)\\biggr(\\ket{00} - i\\ket{11}\\biggr) + e^{i\\phi}\\sin \\biggr(\\frac{\\theta}{2}\\biggr)\\biggr(\\ket{01} - i\\ket{10}\\biggr) + ie^{i\\lambda} \\sin \\biggr(\\frac{\\theta}{2}\\biggr)\\biggr(\\ket{10} - i\\ket{01}\\biggr) - ie^{i\\phi + i\\lambda} \\cos \\biggr(\\frac{\\theta}{2}\\biggr)\\biggr(\\ket{11} - i\\ket{00} \\biggr)\\biggr]\n",
    "\\end{align*}\n",
    "\n",
    "we want the outcome $\\ket{01}$ with maximum probability therefore we want the coefficients of $\\ket{01}$ to be maximum. we need to set:\n",
    "\n",
    "$$\n",
    "\\theta = \\pm \\pi\n",
    "$$\n",
    "$$\n",
    "e^{i\\phi} = -e^{i\\lambda}\n",
    "$$\n",
    "\n",
    "Now we set the obtained values in $U$ and we get:\n",
    "\n",
    "\\begin{align*}\n",
    "U &= \\mymatrix{cc}{0&1 \\\\ -1 & 0}\\\\\n",
    "&= Z.X\n",
    "\\end{align*}"
   ]
  },
  {
   "cell_type": "markdown",
   "id": "3f1b2876",
   "metadata": {},
   "source": [
    "<h3>Task 5</h3> \n",
    "\n",
    "Lets say that player 1 applies pauli-Z and the player 2 applies pauli-Z and pauli-X. Then apply the following gates observe the results.  "
   ]
  },
  {
   "cell_type": "code",
   "execution_count": null,
   "id": "6480fbc0",
   "metadata": {},
   "outputs": [],
   "source": [
    "from qiskit import *\n",
    "q = QuantumRegister(2)\n",
    "c = ClassicalRegister(2)\n",
    "qc = QuantumCircuit(q,c)\n",
    "\n",
    "qc.append(O,[0,1]) # Apply the operator O\n",
    "qc.barrier()\n",
    "\n",
    "# your code here"
   ]
  },
  {
   "cell_type": "markdown",
   "id": "b3faed17",
   "metadata": {},
   "source": [
    "<h3>Quantum version of Minority game </h3>"
   ]
  },
  {
   "cell_type": "markdown",
   "id": "7c3be10f",
   "metadata": {},
   "source": [
    "In the classical version of minority game each player has a ($\\frac{1}{8}$) chance of winning but in the quantum version of the game things become inresting.\n",
    "\n",
    "Now to play the 4 player quantum game we need to use $O_4$ operator insted of $O$:\n",
    "$$\n",
    "O_4 = \\frac{1}{\\sqrt{2}} (I^{\\otimes{4}} + i X^{\\otimes{4}})\n",
    "$$\n",
    "\n",
    "\\begin{align*}  \\ket{\\psi} &= O_4\\ket{00} \\\\\n",
    "  &= \\frac{1}{\\sqrt{2}}(\\ket{0000} + i\\ket{1111})\n",
    "\\end{align*}"
   ]
  },
  {
   "cell_type": "code",
   "execution_count": null,
   "id": "ce8eca1e",
   "metadata": {},
   "outputs": [],
   "source": [
    "I4 = np.identity(16) # 16X16 identity matrix for 4 qubits\n",
    "\n",
    "X4 = np.matrix([[0,0,0,0,0,0,0,0,0,0,0,0,0,0,0,1],  # 16X16 pauli-X matrix for 4 qubits\n",
    "               [0,0,0,0,0,0,0,0,0,0,0,0,0,0,1,0],\n",
    "               [0,0,0,0,0,0,0,0,0,0,0,0,0,1,0,0],\n",
    "               [0,0,0,0,0,0,0,0,0,0,0,0,1,0,0,0],\n",
    "               [0,0,0,0,0,0,0,0,0,0,0,1,0,0,0,0],\n",
    "               [0,0,0,0,0,0,0,0,0,0,1,0,0,0,0,0],\n",
    "               [0,0,0,0,0,0,0,0,0,1,0,0,0,0,0,0],\n",
    "               [0,0,0,0,0,0,0,0,1,0,0,0,0,0,0,0],\n",
    "               [0,0,0,0,0,0,0,1,0,0,0,0,0,0,0,0],\n",
    "               [0,0,0,0,0,0,1,0,0,0,0,0,0,0,0,0],\n",
    "               [0,0,0,0,0,1,0,0,0,0,0,0,0,0,0,0],\n",
    "               [0,0,0,0,1,0,0,0,0,0,0,0,0,0,0,0],\n",
    "               [0,0,0,1,0,0,0,0,0,0,0,0,0,0,0,0],\n",
    "               [0,0,1,0,0,0,0,0,0,0,0,0,0,0,0,0],\n",
    "               [0,1,0,0,0,0,0,0,0,0,0,0,0,0,0,0],\n",
    "               [1,0,0,0,0,0,0,0,0,0,0,0,0,0,0,0]])\n",
    "\n",
    "O4 = Operator(1/np.sqrt(2) * (I4 + 1j * X4)) #  EWL Operator for 4 qubits\n",
    "\n",
    "O4_dg = Operator(1 / np.sqrt(2) * (I4 - 1j * X4)) # O_dg Operator for 4 qubits"
   ]
  },
  {
   "cell_type": "markdown",
   "id": "0f7e27d9",
   "metadata": {},
   "source": [
    "In the classical game, the best that one can do is pick the strategy 0 or 1 randomly with a 50% probability and hope for the best. This is indeed a Nash equilibrium and gives each player a 1/8 chance of winning. However, things get very interesting in the quantum world...\n",
    "\n",
    "It turns out that there are non-trivial pure strategy Nash equilibria in the quantum world. An example is every player deciding to apply the following strategy:\n",
    "\n",
    "$R_z(-\\frac{3\\pi}{8})$ , $R_y(-\\frac{\\pi}{2})$ , $R_x(-\\frac{\\pi}{2})$"
   ]
  },
  {
   "cell_type": "code",
   "execution_count": null,
   "id": "56719ed6",
   "metadata": {},
   "outputs": [],
   "source": [
    "from qiskit import *\n",
    "from math import pi\n",
    "q = QuantumRegister(4)\n",
    "c = ClassicalRegister(4)\n",
    "qc = QuantumCircuit(q,c)\n",
    "\n",
    "qc.append(O4,[0,1,2,3]) # Apply the operator O\n",
    "qc.barrier()\n",
    "\n",
    "qc.rz(-3*pi/8,q[0]) \n",
    "qc.ry(pi/2,q[0])     # Qubit 1\n",
    "qc.rx(pi/2,q[0]) \n",
    "\n",
    "qc.rz(-3*pi/8,q[1]) \n",
    "qc.ry(pi/2,q[1])     # Qubit 2\n",
    "qc.rx(pi/2,q[1]) \n",
    "\n",
    "qc.rz(-3*pi/8,q[2]) \n",
    "qc.ry(pi/2,q[2])     # Qubit 3\n",
    "qc.rx(pi/2,q[2]) \n",
    "\n",
    "qc.rz(-3*pi/8,q[3]) \n",
    "qc.ry(pi/2,q[3])     # Qubit 4\n",
    "qc.rx(pi/2,q[3]) \n",
    "\n",
    "\n",
    "qc.barrier()\n",
    "\n",
    "qc.append(O4_dg,[0,1,2,3]) # Apply the operator Odg\n",
    "qc.barrier()\n",
    "\n",
    "qc.measure(q,c) # measure the qubits\n",
    "\n",
    "display(qc.draw(output = 'mpl',reverse_bits = True))\n",
    "job = execute(qc,Aer.get_backend('qasm_simulator'),shots = 1000)\n",
    "counts = job.result().get_counts(qc)\n",
    "print(counts)\n",
    "    \n",
    "\n",
    "Game.result_minority_game(counts) #display the result of the game \n",
    "\n",
    "plot_histogram(counts)"
   ]
  },
  {
   "cell_type": "markdown",
   "id": "d175a69c",
   "metadata": {},
   "source": [
    "This result is rather remarkable since it shows that every player has a 1/4 chance of winning despite using only pure strategies! This is unachievable in the classical version of the game even when using mixed strategies. And what is even more intriguing is that in the 3-player version of this game \n",
    "1) there are no pure strategy Nash equilibria and \n",
    "\n",
    "2) the players each have a 1/4 chance of winning when in a mixed strategy Nash equilibrium, which is also true for the Nash equilibrium solution for the classical version of the game. So basically, we can't do any better in the 3-player version of the game by making it quantum, but we can in the 4-player version of the game. Why should this be the case? And in what cases of games can we do better in the quantum version compared to the classical ones? The answer to these questions that no one exactly knows yet... welcome to the wonderful and weird world of quantum game theory!\n",
    "   "
   ]
  },
  {
   "cell_type": "markdown",
   "id": "962a55df",
   "metadata": {},
   "source": [
    "<h3>Why is Quantum game theory important</h3>"
   ]
  },
  {
   "cell_type": "markdown",
   "id": "6409df36",
   "metadata": {},
   "source": [
    "One of the application of Quantum game theory is Quantum biology:\n",
    "\n",
    "Quantum biology is an emerging field; most of the current research is theoretical and subject to questions that require further experimentation. Though the field has only recently received an influx of attention, it has been conceptualized by physicists throughout the 20th century. It has been suggested that quantum biology might play a critical role in the future of the medical world. Early pioneers of quantum physics saw applications of quantum mechanics in biological problems. Erwin Schrödinger's 1944 book What is Life? discussed applications of quantum mechanics in biology. Schrödinger introduced the idea of an \"aperiodic crystal\" that contained genetic information in its configuration of covalent chemical bonds. He further suggested that mutations are introduced by \"quantum leaps\". Other pioneers Niels Bohr, Pascual Jordan, and Max Delbruck argued that the quantum idea of complementarity was fundamental to the life sciences. In 1963, Per-Olov Löwdin published proton tunneling as another mechanism for DNA mutation. In his paper, he stated that there is a new field of study called \"quantum biology\"."
   ]
  },
  {
   "cell_type": "markdown",
   "id": "9cf22101",
   "metadata": {},
   "source": [
    "Organisms that undergo photosynthesis absorb light energy through the process of electron excitation in antennae. These antennae vary among organisms. For example, bacteria use ring-like antennae, while plants use chlorophyll pigments to absorb photons. Photosynthesis creates Frenkel excitons, which provide a separation of charge that cells convert into usable chemical energy. The energy collected in reaction sites must be transferred quickly before it is lost to fluorescence or thermal vibrational motion.\n",
    "\n",
    "Various structures, such as the FMO complex in green sulfur bacteria, are responsible for transferring energy from antennae to a reaction site. FT electron spectroscopy studies of electron absorption and transfer show an efficiency of above 99%, which cannot be explained by classical mechanical models like the diffusion model. Instead, as early as 1938, scientists theorized that quantum coherence was the mechanism for excitation energy transfer.\n",
    "\n",
    "Scientists have recently looked for experimental evidence of this proposed energy transfer mechanism. A study published in 2007 claimed the identification of electronic quantum coherence at −196 °C (77 K). Another theoretical study from 2010 provided evidence that quantum coherence lives as long as 300 femtoseconds at biologically relevant temperatures (4 °C or 277 K) . In that same year, experiments conducted on photosynthetic cryptophyte algae using two-dimensional photon echo spectroscopy yielded further confirmation for long-term quantum coherence. These studies suggest that, through evolution, nature has developed a way of protecting quantum coherence to enhance the efficiency of photosynthesis. However, critical follow-up studies question the interpretation of these results. Single molecule spectroscopy now shows the quantum characteristics of photosynthesis without the interference of static disorder, and some studies use this method to assign reported signatures of electronic quantum coherence to nuclear dynamics occurring in chromophores. A number of proposals emerged trying to explain unexpectedly long coherence. According to one proposal, if each site within the complex feels its own environmental noise, the electron will not remain in any local minimum due to both quantum coherence and thermal environment, but proceed to the reaction site via quantum walks. Another proposal is that the rate of quantum coherence and electron tunneling create an energy sink that moves the electron to the reaction site quickly. Other work suggested that geometric symmetries in the complex may favor efficient energy transfer to the reaction center, mirroring perfect state transfer in quantum networks. Furthermore, experiments with artificial dye molecules cast doubts on the interpretation that quantum effects last any longer than one hundred femtoseconds.\n",
    "\n",
    "\n",
    "Another process in photosynthesis that has almost 100% efficiency is charge transfer, again suggesting that quantum mechanical phenomena are at play. In 1966, a study on the photosynthetic bacteria Chromatium found that at temperatures below 100 K, cytochrome oxidation is temperature-independent, slow (on the order of milliseconds), and very low in activation energy. The authors, Don DeVault and Britton Chase, postulated that these characteristics of electron transfer are indicative of quantum tunneling, whereby electrons penetrate a potential barrier despite possessing less energy than is classically necessary.\n",
    "Seth Lloyd is also notable for his contributions to this area of research.\n",
    "\n",
    "<img src=\" ../Notebooks/images/FMO_Complex_Simple_Diagram.jpg\" width=\"30%\" align=\"centre\">"
   ]
  },
  {
   "cell_type": "markdown",
   "id": "d6270944",
   "metadata": {},
   "source": [
    "<h4>DNA mutation</h4>\n",
    "Deoxyribonucleic acid, DNA, acts as the instructions for making proteins throughout the body. It consists of 4 nucleotides guanine, thymine, cytosine, and adenine. The order of these nucleotides gives the “recipe” for the different proteins.\n",
    "\n",
    "Whenever a cell reproduces, it must copy these strands of DNA. However, sometimes throughout the process of copying the strand of DNA a mutation, or an error in the DNA code, can occur. A theory for the reasoning behind DNA mutation is explained in the Lowdin DNA mutation model. In this model, a nucleotide may change its form through a process of quantum tunneling. Because of this, the changed nucleotide will lose its ability to pair with its original base pair and consequently changing the structure and order of the DNA strand.\n",
    "\n",
    "Exposure to ultraviolet lights and other types of radiation can cause DNA mutation and damage. The radiations also can modify the bonds along the DNA strand in the pyrimidines and cause them to bond with themselves creating a dimer.\n",
    "\n",
    "In many prokaryotes and plants, these bonds are repaired to their original form by a DNA repair enzyme photolyase. As its prefix implies, photolyase is reliant on light in order to repair the strand. Photolyase works with its cofactor FADH, flavin adenine dinucleotide, while repairing the DNA. Photolyase is excited by visible light and transfers an electron to the cofactor FADH-. FADH- now in the possession of an extra electron gives the electron to the dimer to break the bond and repair the DNA. This transfer of the electron is done through the tunneling of the electron from the FADH to the dimer. Although the range of the tunneling is much larger than feasible in a vacuum, the tunneling in this scenario is said to be “superexchange-mediated tunneling,” and is possible due to the protein's ability to boost the tunneling rates of the electron.\n",
    "\n",
    "<img src=\" ../Notebooks/images/dna mutations.png\" width=\"60%\" align=\"centre\">"
   ]
  },
  {
   "cell_type": "markdown",
   "id": "c220be86",
   "metadata": {},
   "source": [
    "<h3>Vision</h3>\n",
    "\n",
    "Vision relies on quantized energy in order to convert light signals to an action potential in a process called phototransduction. In phototransduction, a photon interacts with a chromophore in a light receptor. The chromophore absorbs the photon and undergoes photoisomerization. This change in structure induces a change in the structure of the photo receptor and resulting signal transduction pathways lead to a visual signal. However, the photoisomerization reaction occurs at a rapid rate, in under 200 femtoseconds, with high yield. Models suggest the use of quantum effects in shaping the ground state and excited state potentials in order to achieve this efficiency.\n",
    "\n",
    "<h3>Quantum vision implications</h3>\n",
    "Experiments have shown that the sensors in the retina of human eye is sensitive enough to detect a single photon. Single photon detection could lead to multiple different technologies. One area of development is in quantum communication and cryptography. The idea is to use a biometric system to measure the eye using only a small number of points across the retina with random flashes of photons that “read” the retina and identify the individual. This biometric system would only allow a certain individual with a specific retinal map to decode the message. This message can not be decoded by anyone else unless the eavesdropper were to guess the proper map or could read the retina of the intended recipient of the message.\n",
    "\n"
   ]
  },
  {
   "cell_type": "markdown",
   "id": "83fea790",
   "metadata": {},
   "source": [
    "<h3>Magnetoreception</h3>\n",
    "\n",
    "Magnetoreception refers to the ability of animals to navigate using the inclination of the magnetic field of the earth. A possible explanation for magnetoreception is the entangled radical pair mechanism. The radical-pair mechanism is well-established in spin chemistry, and was speculated to apply to magnetoreception in 1978 by Schulten et al.. The ratio between singlet and triplet pairs is changed by the interaction of entangled electron pairs with the magnetic field of the earth. In 2000, cryptochrome was proposed as the \"magnetic molecule\" that could harbor magnetically sensitive radical-pairs. Cryptochrome, a flavoprotein found in the eyes of European robins and other animal species, is the only protein known to form photoinduced radical-pairs in animals. When it interacts with light particles, cryptochrome goes through a redox reaction, which yields radical pairs both during the photo-reduction and the oxidation. The function of cryptochrome is diverse across species, however, the photoinduction of radical-pairs occurs by exposure to blue light, which excites an electron in a chromophore. Magnetoreception is also possible in the dark, so the mechanism must rely more on the radical pairs generated during light-independent oxidation.\n",
    "\n",
    "Experiments in the lab support the basic theory that radical-pair electrons can be significantly influenced by very weak magnetic fields, i.e. merely the direction of weak magnetic fields can affect radical-pair's reactivity and therefore can \"catalyze\" the formation of chemical products. Whether this mechanism applies to magnetoreception and/or quantum biology, that is, whether earth's magnetic field \"catalyzes\" the formation of biochemical products by the aid of radical-pairs, is undetermined for two reasons. The first is that radical-pairs may need not be entangled, the key quantum feature of the radical-pair mechanism, to play a part in these processes. There are entangled and non-entangled radical-pairs. However, researchers found evidence for the radical-pair mechanism of magnetoreception when European robins, cockroaches, and garden warblers, could no longer navigate when exposed to a radio frequency that obstructs magnetic fields and radical-pair chemistry. To empirically suggest the involvement of entanglement, an experiment would need to be devised that could disturb entangled radical-pairs without disturbing other radical-pairs, or vice versa, which would first need to be demonstrated in a laboratory setting before being applied to in vivo radical-pairs.\n",
    "\n",
    "<img src=\" ../Notebooks/images/Magnetoreception.png\" width=\"80%\" align=\"centre\">"
   ]
  },
  {
   "cell_type": "markdown",
   "id": "e60834b6",
   "metadata": {},
   "source": [
    "<h3>Conclusion</h3>\n",
    "\n",
    "From all the notebooks included in this tutorial we have understood basic knowledge of Classical game theory and Quantum game theory. These notebook merely scratches the very surface of quantum game theory. Thank you for taking the time to go through this tutorial and we hope you enjoyed it, and maybe even learnt a little something :). If you are further instrested in Quantum Game Theory then you can find addtional resources <a href=\"Additional Resources.ipynb#Task 1\">Here</a>."
   ]
  }
 ],
 "metadata": {
  "kernelspec": {
   "display_name": "Python 3 (ipykernel)",
   "language": "python",
   "name": "python3"
  },
  "language_info": {
   "codemirror_mode": {
    "name": "ipython",
    "version": 3
   },
   "file_extension": ".py",
   "mimetype": "text/x-python",
   "name": "python",
   "nbconvert_exporter": "python",
   "pygments_lexer": "ipython3",
   "version": "3.9.7"
  }
 },
 "nbformat": 4,
 "nbformat_minor": 5
}

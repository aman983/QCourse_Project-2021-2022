{
 "cells": [
  {
   "cell_type": "markdown",
   "id": "2669b33f",
   "metadata": {},
   "source": [
    "<h1>Classical Game Theory</h1>\n",
    "\n",
    "This jupyter notebook will Explain Classical Game Theory concents required to understand other notebooks"
   ]
  },
  {
   "cell_type": "markdown",
   "id": "8ef33a26",
   "metadata": {},
   "source": [
    "<h3>Nash Equlibrium</h3>\n",
    "\n"
   ]
  },
  {
   "cell_type": "markdown",
   "id": "8ec27b82",
   "metadata": {},
   "source": [
    "In game theory, the Nash equilibrium, named after the mathematician [John Forbes Nash Jr](https://en.wikipedia.org/wiki/John_Forbes_Nash_Jr.) . In a Nash equilibrium, each player is assumed to know the equilibrium strategies of the other players and no player has anything to gain by changing only their own strategy\n",
    "\n",
    "let's understand from a Game:\n",
    "\n",
    "Spotlight game:\n",
    "- suppose two cars are driving at each other from perpendicular direction \n",
    "- The spotlight is Red for one of them and Green for the other\n",
    "- If the police could not ticket the drivers would they want to break the law\n",
    "\n",
    "The payoff matrix for this game is:\n",
    "$\n",
    "   \\begin{array}{lc|cc} \n",
    "    & & Bob&Bob \\\\ \n",
    "    & & \\mathbf{Go} & \\mathbf{Stop} \\\\ \\hline \n",
    "    Alice & \\mathbf{Go} & \\mbox{(-5,-5)} & \\mbox{(1,0)} \\\\  \n",
    "    Alice& \\mathbf{Stop} & \\mbox{(0,1)}& \\mbox{(-1,-1)}  \\end{array} \n",
    "$\n",
    "\n",
    "<b>Alice's perspective</b>\n",
    "- If Alice chooses to go then bob will wait because bob compare's the payoffs and proceed in that strategy which has high payoff in this case (-5 < 0)\n",
    "\n",
    "<b>Bob's perspective</b>\n",
    "- If Bob chooses to stop then Alice will choose to Go because for Alice payoff for moving(Go) is more than waiting(Stop). (1 > -1)\n",
    "\n",
    "\n",
    "<br>If both of them proceed at the same time they crash into each other thus receiving -5 as payoff.</br>\n",
    "<br>If both of them stop then nothing happens and they waste time thus receiving -1 as payoff.</br>\n",
    "\n",
    "The only way for them to avoid the above two scenarios’ is to wait for other to cross the road or vice-versa.\n",
    "\n",
    "There are two Nash Equilibrium’s (Go, Stop) and (Stop, Go) Alice and Bob will choose Nash Equilibrium conditions because of their payoffs and it is a dominant strategy.\n",
    "\n",
    "<i>*There can be a Game where Nash Equilibrium does not exist​.</i>\n",
    "<br><i>* A Game can have more than one Nash Equlibriums.</i></br>"
   ]
  },
  {
   "cell_type": "markdown",
   "id": "a280714d",
   "metadata": {},
   "source": [
    "<h3>Pareto Optimality</h3>\n",
    "\n"
   ]
  },
  {
   "cell_type": "markdown",
   "id": "ab0c7c09",
   "metadata": {},
   "source": [
    "Pareto optimality is a condition where the one party cannot have advantage without making other party worse.\n",
    "\n",
    "\n",
    "In this game two people are walking on pavement from opposite directions. If both of them choose to stick to their right or left it will be advantageous to both of them but if either of them deviates from this choice they will collide into each other\n",
    "\n",
    "The payoff matrix for this game is:\n",
    "$\n",
    "   \\begin{array}{lc|cc} \n",
    "    & & Left&Right \\\\ \n",
    "    \\\\ \\hline \n",
    "    Left &  & \\mbox{(1,1)} & \\mbox{(-1,-1)} \\\\  \n",
    "    Right&  & \\mbox{(-1,-1)}& \\mbox{(1,1)}  \\end{array} \n",
    "$\n",
    "\n",
    "The Pareto Optimal outcomes are (1,1) because in other conditions both parties’ payoffs are worse (1,1) > (-1, -1). They will choose to cooperate with each other thus (1,1) is also a Nash Equilibrium.\n",
    "\n",
    "<b>Example 2 :</b>\n",
    "\n",
    "There are two players in this game let's say Alice and Bob. Both of them are given two coins with Heads and Tails.\n",
    "- Alice must try to match her penny with Bob, if the penny's match then Alice receives a positive payoff and Bob receives negative payoff.\n",
    "- Bob must make sure that his penny does not matches with Alice, if the penny's don't match then Bob receives a positive payoff and Alice receives a negative payoff.\n",
    "\n",
    "The payoff matrix for this game is:\n",
    "$\n",
    "   \\begin{array}{lc|cc} \n",
    "    & & Heads&Tails \\\\ \n",
    "    \\\\ \\hline \n",
    "    Heads &  & \\mbox{(1,-1)} & \\mbox{(-1,1)} \\\\  \n",
    "    Tails &  & \\mbox{(-1,1)}& \\mbox{(1,-1)}  \\end{array} \n",
    "$\n",
    "\n",
    "This is an example of a zero sum game where <b>all the cases are pareto optimal</b> which is mostly common in zero sum games.\n",
    "\n",
    "<i> * Every finite normal-form game of complete information and common knowledge has at least one Pareto optimality in pure strategy</i>\n",
    "<br><i>* A Game can have more than one Pareto Optimal Equlibrium.</i></br>"
   ]
  },
  {
   "cell_type": "markdown",
   "id": "929955b5",
   "metadata": {},
   "source": [
    "<h3>Prisoner's Dilema </h3>\n",
    "\n"
   ]
  },
  {
   "cell_type": "markdown",
   "id": "00080e6a",
   "metadata": {},
   "source": [
    "Alice and Bob have been caught for selling Drugs and the officer has suspicion that they were also involved in the Bank robbery.\n",
    "\n",
    "<br>They have two choices:</br>\n",
    "- say nothing about the robery\n",
    "- Snitch on other\n",
    "\n",
    "$\n",
    "   \\begin{array}{lc|cc} \n",
    "    & & Bob&Bob \\\\ \n",
    "    & & \\mathbf{I} & \\mathbf{X} \\\\ \\hline \n",
    "    Alice & \\mathbf{I} & \\mbox{(1,1)} & \\mbox{(10,1)} \\\\  \n",
    "    Alice& \\mathbf{X} & \\mbox{(1,10)}& \\mbox{(3,3)}  \\end{array} \n",
    "$\n",
    "\n",
    "<b>case 1</b>: If Alice says nothing and bob say nothing they get 1 year of Imprisonment. (1,1)\n",
    "\n",
    "<b>case 2</b>: If Bob snitches on Alice and Alice says nothing, then Bob gets 1 year of Imprisonment and Alice gets 10 years. (10,1)\n",
    "\n",
    "<b>case 3</b>: If Alice snitches on bob and bob says nothing, then Alice gets 1 year of Imprisonment and bob gets 10 years. (1,10)\n",
    "\n",
    "<b>case 4</b>:If Alice and Bob both snitch on each other they get three years of Imprisonment. (3,3)\n",
    "\n",
    "let's see from the point of view of Alice:\n",
    "- If Alice stays quiet then bob can snitch on her and she will get 10 years and Bob will get 1 year.\n",
    "- If Alice snitches, then if bob snitches on her then she will get 3 years which much better than 10 years.\n",
    "\n",
    "let's see from the point of view of Bob:\n",
    "- If Bob stays quiet then Alice can snitch on him and he will get 10 years and Alice will get 1 year.\n",
    "- If Bob snitches and if Alice snitches on him then he will get 3 years which much better than 10 years.\n",
    "\n",
    "It is quite intriguing that the outcomes (1, 1), (1, 10) and (10, 1) are all Pareto optimal for this game. The outcome (5, 5) is not Pareto optimal as it is Pareto dominated by the outcome (1, 1). Another interesting observation to make is that (5, 5) which is the only Non-Pareto optimal outcome in the game is also the dominant strategy every player is expected to play, making it the Nash equilibrium. Instead of both the players cooperating they will Snitch/Defect, this is why the prisoner’s dilemma is such a dilemma!"
   ]
  },
  {
   "cell_type": "markdown",
   "id": "8bcb7931",
   "metadata": {},
   "source": [
    "<h3>Evolutionary Game Theory</h3> \n",
    "\n"
   ]
  },
  {
   "cell_type": "markdown",
   "id": "fd1782ad",
   "metadata": {},
   "source": [
    "Evolutionary Game Theory is the application of Classical Game theory used for observing evolution in populations of a species. The concept of Evolutionary Game Theory was introduced by John Maynard smith and George R. Price in 1973. It was discovered that the mathematical criteria can be used to predict the results of competing strategies.\n",
    "\n",
    "\n",
    "Evolutionary game theory differs from classical game theory in focusing more on the dynamics of strategy change. This is influenced by the change in the different strategies in the population.\n",
    "\n",
    "Evolutionary game theory has helped to explain the behaviors in Darwinian evolution. It has become a major interest to economists, sociologists and philosophers.\n",
    "Evolutionary game theory has helped to understand biological concepts such as group selection, sexual selection, parental care and co-evolution.\n",
    "\n",
    "Let us say that there is a population of animals with gene A and suddenly a population of gene B mutant appears then if strategy can survive all \"mutant\" strategies then it is considered evolutionarily stable. The strategy that an animal will play is determined by the genetics of the animal thus making any player or organism's strategy determined by these biological factors.\n",
    "\n",
    "\n",
    "<b>Example</b>\n",
    "\n",
    "The contestants can choose one strategy from the following to use in the game:\n",
    "\n",
    "- Dove - first displays aggression but when it is faced with major fights it runs for safety\n",
    "- Hawk - displays aggression and fights for food until it Wins or gets injured(loses)\n",
    "\n",
    "<b>V</b> is the food value and <b>C</b> is the damage taken from losing the fight\n",
    "\n",
    "\n",
    "$\n",
    "   \\begin{array}{lc|cc} \n",
    "    & & Hawk&Dove \\\\ \n",
    "    \\\\ \\hline \n",
    "    Hawk &  & \\mbox{(V/2 - C/2)} & \\mbox{(V)} \\\\  \n",
    "    Dove &  & \\mbox{(0)}& \\mbox{(V/2)}  \\end{array} \n",
    "$\n",
    "\n",
    "- If hawk meets dove then hawk get the food <b>V</b>.\n",
    "- If hawk meets hawk then they both fight and half of the time they win and half of the time they lose,so the outcome is (V/2 - C/2).\n",
    "- If a dove meets hawk then it runs and gets nothing(0).\n",
    "- If a dove meets dove then they share the food and both of them get half of food (V/2). \n",
    "\n",
    "\n",
    "The payoff would depend on the probabity of meeting a dove or a hawk at random which depend on the number of hawks and doves in the population pool. Now if the cost of losing is greater than winning (C>V) then the condition ends up in an Evolutionary stable strategy (Nash Equilibrium) where the population of hawks is V/C. The population comes back to this condition if a new hawk or dove enter the population. The solution of the hawk dove game explains why most animal contests involve only ritual fighting behavior’s in contests rather than outright battles"
   ]
  }
 ],
 "metadata": {
  "kernelspec": {
   "display_name": "Python 3",
   "language": "python",
   "name": "python3"
  },
  "language_info": {
   "codemirror_mode": {
    "name": "ipython",
    "version": 3
   },
   "file_extension": ".py",
   "mimetype": "text/x-python",
   "name": "python",
   "nbconvert_exporter": "python",
   "pygments_lexer": "ipython3",
   "version": "3.8.8"
  }
 },
 "nbformat": 4,
 "nbformat_minor": 5
}

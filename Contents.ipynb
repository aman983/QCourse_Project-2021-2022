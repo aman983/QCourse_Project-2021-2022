{
 "cells": [
  {
   "cell_type": "markdown",
   "id": "981ec4c1",
   "metadata": {},
   "source": [
    "<h1 align=\"center\" style=\"color: #cd7f32;\"> Content </h1>"
   ]
  },
  {
   "cell_type": "markdown",
   "id": "33807bf7",
   "metadata": {},
   "source": [
    "<h3>Introduction to Classical Game theory</h3>"
   ]
  },
  {
   "cell_type": "markdown",
   "id": "48d038c6",
   "metadata": {},
   "source": [
    "<a href=\"Notebooks/Notebook-1.ipynb\" target=\"_blank\">Notebook-1</a>"
   ]
  },
  {
   "cell_type": "markdown",
   "id": "2a5a1b5c",
   "metadata": {},
   "source": [
    "<h3>Classical Games</h3>"
   ]
  },
  {
   "cell_type": "markdown",
   "id": "61546333",
   "metadata": {},
   "source": [
    "<a href=\"Notebooks/Notebook-2.ipynb\" target=\"_blank\">Notebook-2</a>"
   ]
  },
  {
   "cell_type": "markdown",
   "id": "27dc085c",
   "metadata": {},
   "source": [
    "<h3>Quantum Games</h3>"
   ]
  },
  {
   "cell_type": "markdown",
   "id": "ded77b18",
   "metadata": {},
   "source": [
    "<a href=\"Notebooks/Notebook-3.ipynb\" target=\"_blank\">Notebook-3</a>"
   ]
  },
  {
   "cell_type": "markdown",
   "id": "e2ec7050",
   "metadata": {},
   "source": [
    "<h3>Additional rsesources and refrences</h3>"
   ]
  },
  {
   "cell_type": "markdown",
   "id": "e3627dbc",
   "metadata": {},
   "source": [
    "<a href=\"Notebooks/Additional Resources.ipynb\" target=\"_blank\">Additional Resources</a>"
   ]
  },
  {
   "cell_type": "code",
   "execution_count": null,
   "id": "22265c97",
   "metadata": {},
   "outputs": [],
   "source": []
  }
 ],
 "metadata": {
  "kernelspec": {
   "display_name": "Python 3 (ipykernel)",
   "language": "python",
   "name": "python3"
  },
  "language_info": {
   "codemirror_mode": {
    "name": "ipython",
    "version": 3
   },
   "file_extension": ".py",
   "mimetype": "text/x-python",
   "name": "python",
   "nbconvert_exporter": "python",
   "pygments_lexer": "ipython3",
   "version": "3.9.7"
  }
 },
 "nbformat": 4,
 "nbformat_minor": 5
}
